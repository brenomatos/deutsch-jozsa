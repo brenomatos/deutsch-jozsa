{
 "cells": [
  {
   "cell_type": "code",
   "execution_count": 1,
   "metadata": {},
   "outputs": [],
   "source": [
    "import numpy as np\n",
    "import matplotlib.pyplot as plt\n",
    "\n",
    "from qiskit import IBMQ, BasicAer\n",
    "from qiskit.providers.ibmq import least_busy\n",
    "from qiskit import QuantumCircuit, ClassicalRegister, QuantumRegister, execute\n",
    "\n",
    "from qiskit.tools.visualization import plot_histogram\n"
   ]
  },
  {
   "cell_type": "markdown",
   "metadata": {},
   "source": [
    "# 1. Introdução\n",
    "Neste trabalho, iremos implementar o algoritmo de Deutsch-Josza utilizando a biblioteca [Qiskit](https://community.qiskit.org) da IBM"
   ]
  },
  {
   "cell_type": "markdown",
   "metadata": {},
   "source": [
    "# 2. Problema\n",
    "O problema de Deutsch-Josza é uma generalização do problema de Deutsch, em que queremos determinar se uma função $f:\\{0,1\\} \\rightarrow \\{0,1\\}$ é balanceada (imagens distintas) ou constante (imagens iguais). Neste caso, queremos determinar de uma função genérica $f:\\{0,1\\}^{n} \\rightarrow \\{0,1\\}$ é balanceada ou constante. Tanto para o problema de Deutsch como para o problema de Deutsch-Josza, temos apenas dois tipos de função: constante ou balanceada. Classicamente, este problema tem complexidade $O(2^n)$ para ser resolvido, sendo $n$ o número de bits. Entretanto, quanticamente, podemos resolvê-lo em complexidade $O(1)$ sem erros."
   ]
  },
  {
   "cell_type": "markdown",
   "metadata": {},
   "source": [
    "## Algoritmo\n",
    "\n",
    "O algoritmo de Deutsch-Josza é descrito da seguinte maneira:\n",
    "1. Inicialize dois registradores: um com n-qubits inicializados em |0>, o outro com um qubit inicializdo em |1>\n",
    "1. Aplique Haddamard em cada qubit\n",
    "1. Aplique o oráculo |x> |y> = |x>|(y+f(x))%2>\n",
    "1. Aplique Haddamard em todos os qubits do primeiro registrador\n",
    "1. Faça medição na saída"
   ]
  },
  {
   "cell_type": "markdown",
   "metadata": {},
   "source": [
    "# 3. Implementação\n",
    "Incialmente, iremos determinar com quantos bits iremos trabalhar"
   ]
  },
  {
   "cell_type": "code",
   "execution_count": 2,
   "metadata": {},
   "outputs": [
    {
     "data": {
      "text/plain": [
       "4"
      ]
     },
     "execution_count": 2,
     "metadata": {},
     "output_type": "execute_result"
    }
   ],
   "source": [
    "# Trabalharemos com uma string de 4 qubits\n",
    "n = 4\n",
    "\n",
    "n"
   ]
  },
  {
   "cell_type": "markdown",
   "metadata": {},
   "source": [
    "Em seguida, iremos determinar com qual tipo de função iremos trabalhar: constante ou balanceada"
   ]
  },
  {
   "cell_type": "code",
   "execution_count": 3,
   "metadata": {},
   "outputs": [
    {
     "name": "stdout",
     "output_type": "stream",
     "text": [
      "Valor de b: 1001\n"
     ]
    }
   ],
   "source": [
    "oracle = \"b\"\n",
    "\n",
    "# se o oraculo eh balanceado, seta a string de saida\n",
    "if oracle == \"b\":\n",
    "    b = np.random.randint(1,2**n)\n",
    "\n",
    "# se o oraculo eh constante, seta c = 0.\n",
    "if oracle == \"c\":\n",
    "    c = 0\n",
    "\n",
    "try:\n",
    "    print(\"Valor de b: {0:b}\".format(b))\n",
    "except:\n",
    "    pass\n",
    "try:\n",
    "    print(\"Valor de c:\",c)\n",
    "except:\n",
    "    pass"
   ]
  },
  {
   "cell_type": "markdown",
   "metadata": {},
   "source": [
    "A ideia por tras é que, caso a função seja balanceada, iremos retornar o valor de b na saida (cada bit em uma das saídas. Isso ficará mais claro mais a frente). Caso contrário, iremos retornar 0 em todas as saidas."
   ]
  },
  {
   "cell_type": "markdown",
   "metadata": {},
   "source": [
    "## Construindo o Circuito\n",
    "Inicialmente, iremos inicializar os registradores quânticos e clássicos. Todos os qubits iniciam com $0$, mas é necessário setar o n-ésimo qubit com $1$. Além disso, aplicamos Haddamard para todas as entradas, para obter superposição. Abaixo, implementamos precisamente isso."
   ]
  },
  {
   "cell_type": "code",
   "execution_count": 4,
   "metadata": {},
   "outputs": [
    {
     "data": {
      "text/plain": [
       "<qiskit.circuit.instructionset.InstructionSet at 0x7f66df9ecd68>"
      ]
     },
     "execution_count": 4,
     "metadata": {},
     "output_type": "execute_result"
    }
   ],
   "source": [
    "# Criando registradores\n",
    "# n qubits para oraculo e um qubit para resposta\n",
    "\n",
    "qr = QuantumRegister(n+1)\n",
    "cr = ClassicalRegister(n)\n",
    "\n",
    "djCircuit = QuantumCircuit(qr, cr)\n",
    "barriers = True\n",
    "\n",
    "# Todos qubits sao inicializados com |0>, precisamos setar o decimo qubit para o estado |1>\n",
    "djCircuit.x(qr[n])\n",
    "\n",
    "# Aplicar barreiras\n",
    "if barriers:\n",
    "    djCircuit.barrier()\n",
    "\n",
    "    \n",
    "# Aplicar hadamard em todos os qubits\n",
    "djCircuit.h(qr)    \n",
    "    \n"
   ]
  },
  {
   "cell_type": "markdown",
   "metadata": {},
   "source": [
    "Circuito até o momento, que corresponde aos dois primeiros passos do algoritmo:"
   ]
  },
  {
   "cell_type": "code",
   "execution_count": 5,
   "metadata": {},
   "outputs": [
    {
     "data": {
      "image/png": "[encoded data removed]",
      "text/plain": [
       "<Figure size 347.956x385.28 with 1 Axes>"
      ]
     },
     "execution_count": 5,
     "metadata": {},
     "output_type": "execute_result"
    }
   ],
   "source": [
    "djCircuit.draw(output='mpl')"
   ]
  },
  {
   "cell_type": "markdown",
   "metadata": {},
   "source": [
    "Abaixo, iremos implementar a parte principal do circuito que determina se a função é constante ou balanceada. Note que após aplicar a transformação, iremos aplicar Haddamard em todos os qubits de 0 a n-1. Após isso, iremos realizar as medições necessárias. Esta etapa equivale aos passos 3 a 5 do algoritmo"
   ]
  },
  {
   "cell_type": "code",
   "execution_count": 6,
   "metadata": {},
   "outputs": [],
   "source": [
    "# Outra barreira\n",
    "if barriers:\n",
    "    djCircuit.barrier()\n",
    "\n",
    "# Diga-me, oraculo, qual a resposta?\n",
    "if oracle == \"c\": # \"sou constante, bruno\", retorna c\n",
    "    if c == 1:\n",
    "        djCircuit.x(qr[n])\n",
    "    else:\n",
    "        djCircuit.iden(qr[n])\n",
    "else: # \"sou balanceado, bruno\" retorna o produto interno da entrada com b  \n",
    "    for i in range(n):\n",
    "        if (b & (1 << i)):\n",
    "            djCircuit.cx(qr[i], qr[n])\n",
    "\n",
    "# Quase la, mais uma barreira\n",
    "if barriers:\n",
    "    djCircuit.barrier()\n",
    "\n",
    "# Aplicando haddamard aos registradores depois de perguntar ao oraculo\n",
    "for i in range(n):\n",
    "    djCircuit.h(qr[i])\n",
    "\n",
    "# Medindo, finalmente\n",
    "for i in range(n):\n",
    "    djCircuit.measure(qr[i], cr[i])"
   ]
  },
  {
   "cell_type": "markdown",
   "metadata": {},
   "source": [
    "Visualização do circuito em seu formato final:"
   ]
  },
  {
   "cell_type": "code",
   "execution_count": 7,
   "metadata": {},
   "outputs": [
    {
     "data": {
      "image/png": "[encoded data removed]",
      "text/plain": [
       "<Figure size 889.756x385.28 with 1 Axes>"
      ]
     },
     "execution_count": 7,
     "metadata": {},
     "output_type": "execute_result"
    }
   ],
   "source": [
    "djCircuit.draw(output='mpl')"
   ]
  },
  {
   "cell_type": "markdown",
   "metadata": {},
   "source": [
    "Por fim, iremos simular o circuito localmente. Lembrando que definimos que a saída deve ser igual ao valor de b inicializado ao começo desse notebook, caso seja balanceada, ou zero em todas as saídas, caso contrário:"
   ]
  },
  {
   "cell_type": "code",
   "execution_count": 8,
   "metadata": {},
   "outputs": [
    {
     "name": "stdout",
     "output_type": "stream",
     "text": [
      "Valor de b: 9\n"
     ]
    }
   ],
   "source": [
    "print(\"Valor de b:\",b)"
   ]
  },
  {
   "cell_type": "markdown",
   "metadata": {},
   "source": [
    "# 4. Simulação\n",
    "Abaixo, iremos simular o circuito para conferir que a função é realmente balanceada."
   ]
  },
  {
   "cell_type": "code",
   "execution_count": 9,
   "metadata": {},
   "outputs": [
    {
     "data": {
      "image/png": "[encoded data removed]",
      "text/plain": [
       "<Figure size 504x360 with 1 Axes>"
      ]
     },
     "execution_count": 9,
     "metadata": {},
     "output_type": "execute_result"
    }
   ],
   "source": [
    "# Simulando localmente\n",
    "backend = BasicAer.get_backend('qasm_simulator')\n",
    "shots = 2048\n",
    "results = execute(djCircuit, backend=backend, shots=shots).result()\n",
    "answer = results.get_counts()\n",
    "\n",
    "plot_histogram(answer)"
   ]
  },
  {
   "cell_type": "markdown",
   "metadata": {},
   "source": [
    "Como é possível observar acima, obtivemos que a função é constante com 100% de prababilidade, pois a saída da simulação é precisamente o valor de b determinado, em código binário."
   ]
  },
  {
   "cell_type": "markdown",
   "metadata": {},
   "source": [
    "# Referências\n",
    "\n",
    "1. https://community.qiskit.org/textbook/ch-algorithms/deutsch-josza.html"
   ]
  }
 ],
 "metadata": {
  "kernelspec": {
   "display_name": "Python 3",
   "language": "python",
   "name": "python3"
  },
  "language_info": {
   "codemirror_mode": {
    "name": "ipython",
    "version": 3
   },
   "file_extension": ".py",
   "mimetype": "text/x-python",
   "name": "python",
   "nbconvert_exporter": "python",
   "pygments_lexer": "ipython3",
   "version": "3.7.3"
  }
 },
 "nbformat": 4,
 "nbformat_minor": 2
}
